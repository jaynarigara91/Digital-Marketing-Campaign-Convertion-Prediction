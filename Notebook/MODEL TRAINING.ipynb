{
 "cells": [
  {
   "cell_type": "markdown",
   "metadata": {},
   "source": [
    "# Model Training"
   ]
  },
  {
   "cell_type": "markdown",
   "metadata": {},
   "source": [
    "### 1.1 Import Data and Required Packages"
   ]
  },
  {
   "cell_type": "code",
   "execution_count": 18,
   "metadata": {},
   "outputs": [],
   "source": [
    "import pandas as pd\n",
    "import matplotlib.pyplot as plt\n",
    "import seaborn as sns\n",
    "from sklearn.preprocessing import OneHotEncoder, StandardScaler\n",
    "from sklearn.compose import ColumnTransformer\n",
    "from sklearn.metrics import confusion_matrix, accuracy_score, roc_curve, roc_auc_score,precision_score, recall_score\n",
    "from sklearn.model_selection import train_test_split\n",
    "from sklearn.linear_model import LogisticRegression\n",
    "from sklearn.tree import DecisionTreeClassifier\n",
    "from sklearn.ensemble import RandomForestClassifier,GradientBoostingClassifier,AdaBoostClassifier\n",
    "from sklearn.svm import SVC\n",
    "from xgboost import XGBClassifier\n",
    "from sklearn.svm import SVC\n",
    "from sklearn.neighbors import KNeighborsClassifier\n",
    "from imblearn.over_sampling import SMOTE\n",
    "import warnings"
   ]
  },
  {
   "cell_type": "markdown",
   "metadata": {},
   "source": [
    "#### Import the csv data as pandas dataframe"
   ]
  },
  {
   "cell_type": "code",
   "execution_count": 2,
   "metadata": {},
   "outputs": [],
   "source": [
    "data = pd.read_csv('Data\\digital_marketing_campaign_dataset.csv')"
   ]
  },
  {
   "cell_type": "code",
   "execution_count": 3,
   "metadata": {},
   "outputs": [
    {
     "data": {
      "text/plain": [
       "Index(['Gender', 'CampaignChannel', 'CampaignType', 'AdvertisingPlatform',\n",
       "       'AdvertisingTool'],\n",
       "      dtype='object')"
      ]
     },
     "execution_count": 3,
     "metadata": {},
     "output_type": "execute_result"
    }
   ],
   "source": [
    "data.select_dtypes(include='object').columns"
   ]
  },
  {
   "cell_type": "markdown",
   "metadata": {},
   "source": [
    "#### show top 5 data"
   ]
  },
  {
   "cell_type": "code",
   "execution_count": 4,
   "metadata": {},
   "outputs": [
    {
     "data": {
      "text/html": [
       "<div>\n",
       "<style scoped>\n",
       "    .dataframe tbody tr th:only-of-type {\n",
       "        vertical-align: middle;\n",
       "    }\n",
       "\n",
       "    .dataframe tbody tr th {\n",
       "        vertical-align: top;\n",
       "    }\n",
       "\n",
       "    .dataframe thead th {\n",
       "        text-align: right;\n",
       "    }\n",
       "</style>\n",
       "<table border=\"1\" class=\"dataframe\">\n",
       "  <thead>\n",
       "    <tr style=\"text-align: right;\">\n",
       "      <th></th>\n",
       "      <th>CustomerID</th>\n",
       "      <th>Age</th>\n",
       "      <th>Gender</th>\n",
       "      <th>Income</th>\n",
       "      <th>CampaignChannel</th>\n",
       "      <th>CampaignType</th>\n",
       "      <th>AdSpend</th>\n",
       "      <th>ClickThroughRate</th>\n",
       "      <th>ConversionRate</th>\n",
       "      <th>WebsiteVisits</th>\n",
       "      <th>PagesPerVisit</th>\n",
       "      <th>TimeOnSite</th>\n",
       "      <th>SocialShares</th>\n",
       "      <th>EmailOpens</th>\n",
       "      <th>EmailClicks</th>\n",
       "      <th>PreviousPurchases</th>\n",
       "      <th>LoyaltyPoints</th>\n",
       "      <th>AdvertisingPlatform</th>\n",
       "      <th>AdvertisingTool</th>\n",
       "      <th>Conversion</th>\n",
       "    </tr>\n",
       "  </thead>\n",
       "  <tbody>\n",
       "    <tr>\n",
       "      <th>0</th>\n",
       "      <td>8000</td>\n",
       "      <td>56</td>\n",
       "      <td>Female</td>\n",
       "      <td>136912</td>\n",
       "      <td>Social Media</td>\n",
       "      <td>Awareness</td>\n",
       "      <td>6497.870068</td>\n",
       "      <td>0.043919</td>\n",
       "      <td>0.088031</td>\n",
       "      <td>0</td>\n",
       "      <td>2.399017</td>\n",
       "      <td>7.396803</td>\n",
       "      <td>19</td>\n",
       "      <td>6</td>\n",
       "      <td>9</td>\n",
       "      <td>4</td>\n",
       "      <td>688</td>\n",
       "      <td>IsConfid</td>\n",
       "      <td>ToolConfid</td>\n",
       "      <td>1</td>\n",
       "    </tr>\n",
       "    <tr>\n",
       "      <th>1</th>\n",
       "      <td>8001</td>\n",
       "      <td>69</td>\n",
       "      <td>Male</td>\n",
       "      <td>41760</td>\n",
       "      <td>Email</td>\n",
       "      <td>Retention</td>\n",
       "      <td>3898.668606</td>\n",
       "      <td>0.155725</td>\n",
       "      <td>0.182725</td>\n",
       "      <td>42</td>\n",
       "      <td>2.917138</td>\n",
       "      <td>5.352549</td>\n",
       "      <td>5</td>\n",
       "      <td>2</td>\n",
       "      <td>7</td>\n",
       "      <td>2</td>\n",
       "      <td>3459</td>\n",
       "      <td>IsConfid</td>\n",
       "      <td>ToolConfid</td>\n",
       "      <td>1</td>\n",
       "    </tr>\n",
       "    <tr>\n",
       "      <th>2</th>\n",
       "      <td>8002</td>\n",
       "      <td>46</td>\n",
       "      <td>Female</td>\n",
       "      <td>88456</td>\n",
       "      <td>PPC</td>\n",
       "      <td>Awareness</td>\n",
       "      <td>1546.429596</td>\n",
       "      <td>0.277490</td>\n",
       "      <td>0.076423</td>\n",
       "      <td>2</td>\n",
       "      <td>8.223619</td>\n",
       "      <td>13.794901</td>\n",
       "      <td>0</td>\n",
       "      <td>11</td>\n",
       "      <td>2</td>\n",
       "      <td>8</td>\n",
       "      <td>2337</td>\n",
       "      <td>IsConfid</td>\n",
       "      <td>ToolConfid</td>\n",
       "      <td>1</td>\n",
       "    </tr>\n",
       "    <tr>\n",
       "      <th>3</th>\n",
       "      <td>8003</td>\n",
       "      <td>32</td>\n",
       "      <td>Female</td>\n",
       "      <td>44085</td>\n",
       "      <td>PPC</td>\n",
       "      <td>Conversion</td>\n",
       "      <td>539.525936</td>\n",
       "      <td>0.137611</td>\n",
       "      <td>0.088004</td>\n",
       "      <td>47</td>\n",
       "      <td>4.540939</td>\n",
       "      <td>14.688363</td>\n",
       "      <td>89</td>\n",
       "      <td>2</td>\n",
       "      <td>2</td>\n",
       "      <td>0</td>\n",
       "      <td>2463</td>\n",
       "      <td>IsConfid</td>\n",
       "      <td>ToolConfid</td>\n",
       "      <td>1</td>\n",
       "    </tr>\n",
       "    <tr>\n",
       "      <th>4</th>\n",
       "      <td>8004</td>\n",
       "      <td>60</td>\n",
       "      <td>Female</td>\n",
       "      <td>83964</td>\n",
       "      <td>PPC</td>\n",
       "      <td>Conversion</td>\n",
       "      <td>1678.043573</td>\n",
       "      <td>0.252851</td>\n",
       "      <td>0.109940</td>\n",
       "      <td>0</td>\n",
       "      <td>2.046847</td>\n",
       "      <td>13.993370</td>\n",
       "      <td>6</td>\n",
       "      <td>6</td>\n",
       "      <td>6</td>\n",
       "      <td>8</td>\n",
       "      <td>4345</td>\n",
       "      <td>IsConfid</td>\n",
       "      <td>ToolConfid</td>\n",
       "      <td>1</td>\n",
       "    </tr>\n",
       "  </tbody>\n",
       "</table>\n",
       "</div>"
      ],
      "text/plain": [
       "   CustomerID  Age  Gender  Income CampaignChannel CampaignType      AdSpend  \\\n",
       "0        8000   56  Female  136912    Social Media    Awareness  6497.870068   \n",
       "1        8001   69    Male   41760           Email    Retention  3898.668606   \n",
       "2        8002   46  Female   88456             PPC    Awareness  1546.429596   \n",
       "3        8003   32  Female   44085             PPC   Conversion   539.525936   \n",
       "4        8004   60  Female   83964             PPC   Conversion  1678.043573   \n",
       "\n",
       "   ClickThroughRate  ConversionRate  WebsiteVisits  PagesPerVisit  TimeOnSite  \\\n",
       "0          0.043919        0.088031              0       2.399017    7.396803   \n",
       "1          0.155725        0.182725             42       2.917138    5.352549   \n",
       "2          0.277490        0.076423              2       8.223619   13.794901   \n",
       "3          0.137611        0.088004             47       4.540939   14.688363   \n",
       "4          0.252851        0.109940              0       2.046847   13.993370   \n",
       "\n",
       "   SocialShares  EmailOpens  EmailClicks  PreviousPurchases  LoyaltyPoints  \\\n",
       "0            19           6            9                  4            688   \n",
       "1             5           2            7                  2           3459   \n",
       "2             0          11            2                  8           2337   \n",
       "3            89           2            2                  0           2463   \n",
       "4             6           6            6                  8           4345   \n",
       "\n",
       "  AdvertisingPlatform AdvertisingTool  Conversion  \n",
       "0            IsConfid      ToolConfid           1  \n",
       "1            IsConfid      ToolConfid           1  \n",
       "2            IsConfid      ToolConfid           1  \n",
       "3            IsConfid      ToolConfid           1  \n",
       "4            IsConfid      ToolConfid           1  "
      ]
     },
     "execution_count": 4,
     "metadata": {},
     "output_type": "execute_result"
    }
   ],
   "source": [
    "data.head()"
   ]
  },
  {
   "cell_type": "code",
   "execution_count": 5,
   "metadata": {},
   "outputs": [
    {
     "data": {
      "text/plain": [
       "Conversion\n",
       "1    7012\n",
       "0     988\n",
       "Name: count, dtype: int64"
      ]
     },
     "execution_count": 5,
     "metadata": {},
     "output_type": "execute_result"
    }
   ],
   "source": [
    "data['Conversion'].value_counts()"
   ]
  },
  {
   "cell_type": "markdown",
   "metadata": {},
   "source": [
    "#### There is a Data imabalnce in our dataset it can Overfiting our model"
   ]
  },
  {
   "cell_type": "markdown",
   "metadata": {},
   "source": [
    "## Balancing The data"
   ]
  },
  {
   "cell_type": "code",
   "execution_count": 6,
   "metadata": {},
   "outputs": [],
   "source": [
    "class_1_data = data[data['Conversion'] == 1]\n",
    "sampled_class_1_data, _ = train_test_split(class_1_data,train_size=988,stratify=class_1_data['Conversion'],random_state=42)\n",
    "\n",
    "result = pd.concat([sampled_class_1_data, data[data['Conversion'] == 0]])\n",
    "data = result.sample(frac=1, random_state=42).reset_index(drop=True)"
   ]
  },
  {
   "cell_type": "markdown",
   "metadata": {},
   "source": [
    "### Handling Class Imbalance Using Stratified Sampling\n",
    "\n",
    "To address the class imbalance in the dataset, the following steps were taken:\n",
    "\n",
    "#### 1. **Extracting Class 1 Data**\n",
    "The subset of data where `Conversion = 1` (minority class) was isolated to focus on balancing the dataset.\n",
    "\n",
    "#### 2. **Stratified Sampling**\n",
    "Stratified sampling was applied to the class 1 data, where 988 instances were sampled, matching the number of instances in class 0 (`Conversion = 0`). This ensures both classes are represented equally.\n",
    "\n",
    "#### 3. **Combining Class 0 and Class 1 Data**\n",
    "The 988 sampled instances from class 1 were combined with all class 0 data, resulting in a balanced dataset with an equal representation of both classes (total of 1976 instances).\n",
    "\n",
    "#### 4. **Shuffling the Dataset**\n",
    "The combined dataset was shuffled to ensure randomness and prevent any inherent order in the data, improving model training.\n",
    "\n",
    "By using these techniques, a balanced dataset was created, reducing the risk of bias in machine learning models and improving their overall performance.\n",
    " "
   ]
  },
  {
   "cell_type": "markdown",
   "metadata": {},
   "source": [
    "## Feature Engineering"
   ]
  },
  {
   "cell_type": "code",
   "execution_count": 7,
   "metadata": {},
   "outputs": [],
   "source": [
    "data['EmailEngagement'] = data['EmailOpens'] + data['EmailClicks']\n",
    "data['SiteEngagement'] = data['WebsiteVisits'] * data['PagesPerVisit'] * data['TimeOnSite']\n",
    "data['IncomePerClick'] = data['Income'] / (data['ClickThroughRate'] + 1)  \n",
    "data['AdSpendPerClick'] = data['AdSpend'] / (data['ClickThroughRate'] + 1)  \n",
    "data['ClickToConversionRate'] = data['ConversionRate'] / (data['ClickThroughRate'] + 1) \n",
    "data['TotalInteractions'] = data['WebsiteVisits'] + data['EmailOpens'] + data['EmailClicks'] + data['SocialShares'] + data['PreviousPurchases']"
   ]
  },
  {
   "cell_type": "markdown",
   "metadata": {},
   "source": [
    "#### Engineered a six new columns base on existing column. that helps to increase an accuracy of model"
   ]
  },
  {
   "cell_type": "code",
   "execution_count": 8,
   "metadata": {},
   "outputs": [
    {
     "data": {
      "text/plain": [
       "(1976, 26)"
      ]
     },
     "execution_count": 8,
     "metadata": {},
     "output_type": "execute_result"
    }
   ],
   "source": [
    "data.shape"
   ]
  },
  {
   "cell_type": "code",
   "execution_count": 9,
   "metadata": {},
   "outputs": [
    {
     "data": {
      "text/plain": [
       "Index(['CustomerID', 'Age', 'Income', 'AdSpend', 'ClickThroughRate',\n",
       "       'ConversionRate', 'WebsiteVisits', 'PagesPerVisit', 'TimeOnSite',\n",
       "       'SocialShares', 'EmailOpens', 'EmailClicks', 'PreviousPurchases',\n",
       "       'LoyaltyPoints', 'Conversion', 'EmailEngagement', 'SiteEngagement',\n",
       "       'IncomePerClick', 'AdSpendPerClick', 'ClickToConversionRate',\n",
       "       'TotalInteractions'],\n",
       "      dtype='object')"
      ]
     },
     "execution_count": 9,
     "metadata": {},
     "output_type": "execute_result"
    }
   ],
   "source": [
    "data.select_dtypes(exclude='object').columns"
   ]
  },
  {
   "cell_type": "markdown",
   "metadata": {},
   "source": [
    "#### Total features in data set"
   ]
  },
  {
   "cell_type": "code",
   "execution_count": 10,
   "metadata": {},
   "outputs": [
    {
     "data": {
      "text/html": [
       "<div>\n",
       "<style scoped>\n",
       "    .dataframe tbody tr th:only-of-type {\n",
       "        vertical-align: middle;\n",
       "    }\n",
       "\n",
       "    .dataframe tbody tr th {\n",
       "        vertical-align: top;\n",
       "    }\n",
       "\n",
       "    .dataframe thead th {\n",
       "        text-align: right;\n",
       "    }\n",
       "</style>\n",
       "<table border=\"1\" class=\"dataframe\">\n",
       "  <thead>\n",
       "    <tr style=\"text-align: right;\">\n",
       "      <th></th>\n",
       "      <th>CustomerID</th>\n",
       "      <th>Age</th>\n",
       "      <th>Gender</th>\n",
       "      <th>Income</th>\n",
       "      <th>CampaignChannel</th>\n",
       "      <th>CampaignType</th>\n",
       "      <th>AdSpend</th>\n",
       "      <th>ClickThroughRate</th>\n",
       "      <th>ConversionRate</th>\n",
       "      <th>WebsiteVisits</th>\n",
       "      <th>...</th>\n",
       "      <th>LoyaltyPoints</th>\n",
       "      <th>AdvertisingPlatform</th>\n",
       "      <th>AdvertisingTool</th>\n",
       "      <th>Conversion</th>\n",
       "      <th>EmailEngagement</th>\n",
       "      <th>SiteEngagement</th>\n",
       "      <th>IncomePerClick</th>\n",
       "      <th>AdSpendPerClick</th>\n",
       "      <th>ClickToConversionRate</th>\n",
       "      <th>TotalInteractions</th>\n",
       "    </tr>\n",
       "  </thead>\n",
       "  <tbody>\n",
       "    <tr>\n",
       "      <th>0</th>\n",
       "      <td>15663</td>\n",
       "      <td>59</td>\n",
       "      <td>Male</td>\n",
       "      <td>81407</td>\n",
       "      <td>Referral</td>\n",
       "      <td>Conversion</td>\n",
       "      <td>1243.687722</td>\n",
       "      <td>0.118276</td>\n",
       "      <td>0.186211</td>\n",
       "      <td>48</td>\n",
       "      <td>...</td>\n",
       "      <td>2789</td>\n",
       "      <td>IsConfid</td>\n",
       "      <td>ToolConfid</td>\n",
       "      <td>0</td>\n",
       "      <td>9</td>\n",
       "      <td>5216.627852</td>\n",
       "      <td>72796.866583</td>\n",
       "      <td>1112.147225</td>\n",
       "      <td>0.166516</td>\n",
       "      <td>102</td>\n",
       "    </tr>\n",
       "    <tr>\n",
       "      <th>1</th>\n",
       "      <td>15487</td>\n",
       "      <td>20</td>\n",
       "      <td>Male</td>\n",
       "      <td>84046</td>\n",
       "      <td>Social Media</td>\n",
       "      <td>Consideration</td>\n",
       "      <td>6158.098703</td>\n",
       "      <td>0.234756</td>\n",
       "      <td>0.145429</td>\n",
       "      <td>20</td>\n",
       "      <td>...</td>\n",
       "      <td>1914</td>\n",
       "      <td>IsConfid</td>\n",
       "      <td>ToolConfid</td>\n",
       "      <td>0</td>\n",
       "      <td>25</td>\n",
       "      <td>2027.408223</td>\n",
       "      <td>68066.891173</td>\n",
       "      <td>4987.300220</td>\n",
       "      <td>0.117780</td>\n",
       "      <td>127</td>\n",
       "    </tr>\n",
       "    <tr>\n",
       "      <th>2</th>\n",
       "      <td>10974</td>\n",
       "      <td>27</td>\n",
       "      <td>Male</td>\n",
       "      <td>78786</td>\n",
       "      <td>SEO</td>\n",
       "      <td>Awareness</td>\n",
       "      <td>4490.310586</td>\n",
       "      <td>0.261984</td>\n",
       "      <td>0.161131</td>\n",
       "      <td>45</td>\n",
       "      <td>...</td>\n",
       "      <td>3479</td>\n",
       "      <td>IsConfid</td>\n",
       "      <td>ToolConfid</td>\n",
       "      <td>1</td>\n",
       "      <td>19</td>\n",
       "      <td>4120.550996</td>\n",
       "      <td>62430.290062</td>\n",
       "      <td>3558.137135</td>\n",
       "      <td>0.127680</td>\n",
       "      <td>143</td>\n",
       "    </tr>\n",
       "    <tr>\n",
       "      <th>3</th>\n",
       "      <td>14383</td>\n",
       "      <td>44</td>\n",
       "      <td>Female</td>\n",
       "      <td>21525</td>\n",
       "      <td>Referral</td>\n",
       "      <td>Consideration</td>\n",
       "      <td>1727.783854</td>\n",
       "      <td>0.243896</td>\n",
       "      <td>0.052483</td>\n",
       "      <td>29</td>\n",
       "      <td>...</td>\n",
       "      <td>3948</td>\n",
       "      <td>IsConfid</td>\n",
       "      <td>ToolConfid</td>\n",
       "      <td>1</td>\n",
       "      <td>15</td>\n",
       "      <td>3647.558707</td>\n",
       "      <td>17304.507564</td>\n",
       "      <td>1389.010396</td>\n",
       "      <td>0.042192</td>\n",
       "      <td>94</td>\n",
       "    </tr>\n",
       "    <tr>\n",
       "      <th>4</th>\n",
       "      <td>15465</td>\n",
       "      <td>55</td>\n",
       "      <td>Male</td>\n",
       "      <td>118987</td>\n",
       "      <td>Social Media</td>\n",
       "      <td>Retention</td>\n",
       "      <td>1556.484873</td>\n",
       "      <td>0.027868</td>\n",
       "      <td>0.178856</td>\n",
       "      <td>0</td>\n",
       "      <td>...</td>\n",
       "      <td>916</td>\n",
       "      <td>IsConfid</td>\n",
       "      <td>ToolConfid</td>\n",
       "      <td>0</td>\n",
       "      <td>13</td>\n",
       "      <td>0.000000</td>\n",
       "      <td>115760.973868</td>\n",
       "      <td>1514.284793</td>\n",
       "      <td>0.174007</td>\n",
       "      <td>25</td>\n",
       "    </tr>\n",
       "  </tbody>\n",
       "</table>\n",
       "<p>5 rows × 26 columns</p>\n",
       "</div>"
      ],
      "text/plain": [
       "   CustomerID  Age  Gender  Income CampaignChannel   CampaignType  \\\n",
       "0       15663   59    Male   81407        Referral     Conversion   \n",
       "1       15487   20    Male   84046    Social Media  Consideration   \n",
       "2       10974   27    Male   78786             SEO      Awareness   \n",
       "3       14383   44  Female   21525        Referral  Consideration   \n",
       "4       15465   55    Male  118987    Social Media      Retention   \n",
       "\n",
       "       AdSpend  ClickThroughRate  ConversionRate  WebsiteVisits  ...  \\\n",
       "0  1243.687722          0.118276        0.186211             48  ...   \n",
       "1  6158.098703          0.234756        0.145429             20  ...   \n",
       "2  4490.310586          0.261984        0.161131             45  ...   \n",
       "3  1727.783854          0.243896        0.052483             29  ...   \n",
       "4  1556.484873          0.027868        0.178856              0  ...   \n",
       "\n",
       "   LoyaltyPoints  AdvertisingPlatform  AdvertisingTool  Conversion  \\\n",
       "0           2789             IsConfid       ToolConfid           0   \n",
       "1           1914             IsConfid       ToolConfid           0   \n",
       "2           3479             IsConfid       ToolConfid           1   \n",
       "3           3948             IsConfid       ToolConfid           1   \n",
       "4            916             IsConfid       ToolConfid           0   \n",
       "\n",
       "   EmailEngagement  SiteEngagement  IncomePerClick AdSpendPerClick  \\\n",
       "0                9     5216.627852    72796.866583     1112.147225   \n",
       "1               25     2027.408223    68066.891173     4987.300220   \n",
       "2               19     4120.550996    62430.290062     3558.137135   \n",
       "3               15     3647.558707    17304.507564     1389.010396   \n",
       "4               13        0.000000   115760.973868     1514.284793   \n",
       "\n",
       "  ClickToConversionRate  TotalInteractions  \n",
       "0              0.166516                102  \n",
       "1              0.117780                127  \n",
       "2              0.127680                143  \n",
       "3              0.042192                 94  \n",
       "4              0.174007                 25  \n",
       "\n",
       "[5 rows x 26 columns]"
      ]
     },
     "execution_count": 10,
     "metadata": {},
     "output_type": "execute_result"
    }
   ],
   "source": [
    "data.head()"
   ]
  },
  {
   "cell_type": "code",
   "execution_count": 11,
   "metadata": {},
   "outputs": [],
   "source": [
    "x = data.drop(columns=['CustomerID','AdvertisingPlatform','AdvertisingTool','Conversion'])\n",
    "y = data['Conversion']"
   ]
  },
  {
   "cell_type": "code",
   "execution_count": 12,
   "metadata": {},
   "outputs": [
    {
     "name": "stdout",
     "output_type": "stream",
     "text": [
      "<class 'pandas.core.frame.DataFrame'>\n",
      "RangeIndex: 1976 entries, 0 to 1975\n",
      "Data columns (total 22 columns):\n",
      " #   Column                 Non-Null Count  Dtype  \n",
      "---  ------                 --------------  -----  \n",
      " 0   Age                    1976 non-null   int64  \n",
      " 1   Gender                 1976 non-null   object \n",
      " 2   Income                 1976 non-null   int64  \n",
      " 3   CampaignChannel        1976 non-null   object \n",
      " 4   CampaignType           1976 non-null   object \n",
      " 5   AdSpend                1976 non-null   float64\n",
      " 6   ClickThroughRate       1976 non-null   float64\n",
      " 7   ConversionRate         1976 non-null   float64\n",
      " 8   WebsiteVisits          1976 non-null   int64  \n",
      " 9   PagesPerVisit          1976 non-null   float64\n",
      " 10  TimeOnSite             1976 non-null   float64\n",
      " 11  SocialShares           1976 non-null   int64  \n",
      " 12  EmailOpens             1976 non-null   int64  \n",
      " 13  EmailClicks            1976 non-null   int64  \n",
      " 14  PreviousPurchases      1976 non-null   int64  \n",
      " 15  LoyaltyPoints          1976 non-null   int64  \n",
      " 16  EmailEngagement        1976 non-null   int64  \n",
      " 17  SiteEngagement         1976 non-null   float64\n",
      " 18  IncomePerClick         1976 non-null   float64\n",
      " 19  AdSpendPerClick        1976 non-null   float64\n",
      " 20  ClickToConversionRate  1976 non-null   float64\n",
      " 21  TotalInteractions      1976 non-null   int64  \n",
      "dtypes: float64(9), int64(10), object(3)\n",
      "memory usage: 339.8+ KB\n"
     ]
    }
   ],
   "source": [
    "x.info()"
   ]
  },
  {
   "cell_type": "markdown",
   "metadata": {},
   "source": [
    "#### Drop Unwanted and useless feature based on EDA"
   ]
  },
  {
   "cell_type": "code",
   "execution_count": 13,
   "metadata": {},
   "outputs": [
    {
     "data": {
      "text/plain": [
       "(1976, 22)"
      ]
     },
     "execution_count": 13,
     "metadata": {},
     "output_type": "execute_result"
    }
   ],
   "source": [
    "x.shape"
   ]
  },
  {
   "cell_type": "markdown",
   "metadata": {},
   "source": [
    "### Data Preprocessing"
   ]
  },
  {
   "cell_type": "code",
   "execution_count": 14,
   "metadata": {},
   "outputs": [],
   "source": [
    "# Create Column Transformer with 3 types of transformers\n",
    "num_features = x.select_dtypes(exclude=\"object\").columns\n",
    "cat_features = x.select_dtypes(include=\"object\").columns\n",
    "\n",
    "numeric_transformer = StandardScaler(with_mean=False)\n",
    "oh_transformer = OneHotEncoder(handle_unknown='ignore')\n",
    "\n",
    "preprocessor = ColumnTransformer(\n",
    "    [\n",
    "        (\"OneHotEncoder\", oh_transformer, cat_features),\n",
    "         (\"StandardScaler\", numeric_transformer, num_features),        \n",
    "    ]\n",
    ")"
   ]
  },
  {
   "cell_type": "markdown",
   "metadata": {},
   "source": [
    "#### creating pipeline that perform encoding and scaling on feature"
   ]
  },
  {
   "cell_type": "code",
   "execution_count": 15,
   "metadata": {},
   "outputs": [],
   "source": [
    "X = preprocessor.fit_transform(x)"
   ]
  },
  {
   "cell_type": "markdown",
   "metadata": {},
   "source": [
    "## Data Augmentation"
   ]
  },
  {
   "cell_type": "code",
   "execution_count": 16,
   "metadata": {},
   "outputs": [],
   "source": [
    "smote = SMOTE(sampling_strategy={0: 4000, 1: 4000}, random_state=42)\n",
    "X,y = smote.fit_resample(X, y)"
   ]
  },
  {
   "cell_type": "markdown",
   "metadata": {},
   "source": [
    "### Augmanting Data Using SMOTE\n",
    "\n",
    "SMOTE (Synthetic Minority Over-sampling Technique) was applied to Generate data for achive heigh accuracy both classes to 4000 instances each. This ensures equal representation of both classes, helping to mitigate class imbalance. The `fit_resample` method was used to generate the balanced dataset.\n"
   ]
  },
  {
   "cell_type": "markdown",
   "metadata": {},
   "source": [
    "## Data Spliting"
   ]
  },
  {
   "cell_type": "code",
   "execution_count": 17,
   "metadata": {},
   "outputs": [],
   "source": [
    "X_train, X_test, y_train, y_test = train_test_split(X,y,test_size=0.2,random_state=42)"
   ]
  },
  {
   "cell_type": "markdown",
   "metadata": {},
   "source": [
    "#### Spliting the data into train dataset and test dataset"
   ]
  },
  {
   "cell_type": "markdown",
   "metadata": {},
   "source": [
    "#### Trainig all models and get their accuracy"
   ]
  },
  {
   "cell_type": "code",
   "execution_count": null,
   "metadata": {},
   "outputs": [
    {
     "name": "stdout",
     "output_type": "stream",
     "text": [
      "Super Vector Machine\n",
      "Model performance for Training set\n",
      "- Accuracy: 0.8425\n",
      "----------------------------------\n",
      "Model performance for Test set\n",
      "- Accuracy: 0.8100\n",
      "- Precision: 0.8136\n",
      "- Recall: 0.8100\n",
      "Confusion Matrix:\n",
      "[[595 196]\n",
      " [108 701]]\n",
      "===================================\n",
      "\n",
      "\n"
     ]
    }
   ],
   "source": [
    "models = {\n",
    "    \"Logistic Regression\": LogisticRegression(),\n",
    "    \"Decision Tree\": DecisionTreeClassifier(),\n",
    "    \"Random Forest Classifier\": RandomForestClassifier(n_estimators=100),\n",
    "    \"Gradient Boosting Classifier\": GradientBoostingClassifier(learning_rate=0.1, n_estimators=100),\n",
    "    \"XGBClassifier\": XGBClassifier(learning_rate=0.1, max_depth=6, n_estimators=100, random_state=42),\n",
    "    \"K-Neighbors Classifier\": KNeighborsClassifier(n_neighbors=3),\n",
    "    \"Super Vector Machine\" : SVC(),\n",
    "    \"AdaBoost Classifier\": AdaBoostClassifier()\n",
    "}\n",
    "\n",
    "model_list = []\n",
    "accuracy_list = []\n",
    "precision_list = []\n",
    "recall_list = []\n",
    "\n",
    "for i in range(len(models)):\n",
    "    model = list(models.values())[i]\n",
    "    model.fit(X_train, y_train)  # Train model\n",
    "\n",
    "    # Make predictions\n",
    "    y_train_pred = model.predict(X_train)\n",
    "    y_test_pred = model.predict(X_test)\n",
    "\n",
    "    # Evaluate Train and Test dataset\n",
    "    accuracy_train = accuracy_score(y_train, y_train_pred)\n",
    "    accuracy_test = accuracy_score(y_test, y_test_pred)\n",
    "    precision_test = precision_score(y_test, y_test_pred, average='weighted')  # 'weighted' for multiclass\n",
    "    recall_test = recall_score(y_test, y_test_pred, average='weighted')\n",
    "\n",
    "    # Confusion matrix (optional)\n",
    "    conf_matrix = confusion_matrix(y_test, y_test_pred)\n",
    "\n",
    "    # Print results\n",
    "    print(list(models.keys())[i])\n",
    "    model_list.append(list(models.keys())[i])\n",
    "\n",
    "    print('Model performance for Training set')\n",
    "    print(\"- Accuracy: {:.4f}\".format(accuracy_train))\n",
    "\n",
    "    print('----------------------------------')\n",
    "\n",
    "    print('Model performance for Test set')\n",
    "    print(\"- Accuracy: {:.4f}\".format(accuracy_test))\n",
    "    print(\"- Precision: {:.4f}\".format(precision_test))\n",
    "    print(\"- Recall: {:.4f}\".format(recall_test))\n",
    "\n",
    "    print('Confusion Matrix:')\n",
    "    print(conf_matrix)\n",
    "\n",
    "    # Append test metrics for comparison\n",
    "    accuracy_list.append(accuracy_test)\n",
    "    precision_list.append(precision_test)\n",
    "    recall_list.append(recall_test)\n",
    "\n",
    "    print('=' * 35)\n",
    "    print('\\n')\n",
    "\n"
   ]
  },
  {
   "cell_type": "markdown",
   "metadata": {},
   "source": [
    "### Results"
   ]
  },
  {
   "cell_type": "code",
   "execution_count": 20,
   "metadata": {},
   "outputs": [
    {
     "data": {
      "text/html": [
       "<div>\n",
       "<style scoped>\n",
       "    .dataframe tbody tr th:only-of-type {\n",
       "        vertical-align: middle;\n",
       "    }\n",
       "\n",
       "    .dataframe tbody tr th {\n",
       "        vertical-align: top;\n",
       "    }\n",
       "\n",
       "    .dataframe thead th {\n",
       "        text-align: right;\n",
       "    }\n",
       "</style>\n",
       "<table border=\"1\" class=\"dataframe\">\n",
       "  <thead>\n",
       "    <tr style=\"text-align: right;\">\n",
       "      <th></th>\n",
       "      <th>Model Name</th>\n",
       "      <th>Accuracy</th>\n",
       "      <th>Precision</th>\n",
       "      <th>Recall</th>\n",
       "    </tr>\n",
       "  </thead>\n",
       "  <tbody>\n",
       "    <tr>\n",
       "      <th>5</th>\n",
       "      <td>K-Neighbors Classifier</td>\n",
       "      <td>0.976875</td>\n",
       "      <td>0.976909</td>\n",
       "      <td>0.976875</td>\n",
       "    </tr>\n",
       "    <tr>\n",
       "      <th>2</th>\n",
       "      <td>Random Forest Classifier</td>\n",
       "      <td>0.954375</td>\n",
       "      <td>0.954390</td>\n",
       "      <td>0.954375</td>\n",
       "    </tr>\n",
       "    <tr>\n",
       "      <th>4</th>\n",
       "      <td>XGBClassifier</td>\n",
       "      <td>0.929375</td>\n",
       "      <td>0.929599</td>\n",
       "      <td>0.929375</td>\n",
       "    </tr>\n",
       "    <tr>\n",
       "      <th>1</th>\n",
       "      <td>Decision Tree</td>\n",
       "      <td>0.852500</td>\n",
       "      <td>0.852716</td>\n",
       "      <td>0.852500</td>\n",
       "    </tr>\n",
       "    <tr>\n",
       "      <th>3</th>\n",
       "      <td>Gradient Boosting Classifier</td>\n",
       "      <td>0.814375</td>\n",
       "      <td>0.815174</td>\n",
       "      <td>0.814375</td>\n",
       "    </tr>\n",
       "    <tr>\n",
       "      <th>6</th>\n",
       "      <td>Super Vector Machine</td>\n",
       "      <td>0.810000</td>\n",
       "      <td>0.813568</td>\n",
       "      <td>0.810000</td>\n",
       "    </tr>\n",
       "    <tr>\n",
       "      <th>7</th>\n",
       "      <td>AdaBoost Classifier</td>\n",
       "      <td>0.741875</td>\n",
       "      <td>0.743222</td>\n",
       "      <td>0.741875</td>\n",
       "    </tr>\n",
       "    <tr>\n",
       "      <th>0</th>\n",
       "      <td>Logistic Regression</td>\n",
       "      <td>0.719375</td>\n",
       "      <td>0.719541</td>\n",
       "      <td>0.719375</td>\n",
       "    </tr>\n",
       "  </tbody>\n",
       "</table>\n",
       "</div>"
      ],
      "text/plain": [
       "                     Model Name  Accuracy  Precision    Recall\n",
       "5        K-Neighbors Classifier  0.976875   0.976909  0.976875\n",
       "2      Random Forest Classifier  0.954375   0.954390  0.954375\n",
       "4                 XGBClassifier  0.929375   0.929599  0.929375\n",
       "1                 Decision Tree  0.852500   0.852716  0.852500\n",
       "3  Gradient Boosting Classifier  0.814375   0.815174  0.814375\n",
       "6          Super Vector Machine  0.810000   0.813568  0.810000\n",
       "7           AdaBoost Classifier  0.741875   0.743222  0.741875\n",
       "0           Logistic Regression  0.719375   0.719541  0.719375"
      ]
     },
     "execution_count": 20,
     "metadata": {},
     "output_type": "execute_result"
    }
   ],
   "source": [
    "\n",
    "results_df = pd.DataFrame(list(zip(model_list, accuracy_list, precision_list, recall_list)),columns=['Model Name', 'Accuracy', 'Precision', 'Recall']).sort_values(by=[\"Accuracy\"], ascending=False)\n",
    "results_df\n"
   ]
  },
  {
   "cell_type": "markdown",
   "metadata": {},
   "source": [
    "## KNeighbors Classifier"
   ]
  },
  {
   "cell_type": "markdown",
   "metadata": {},
   "source": [
    "### Model Train"
   ]
  },
  {
   "cell_type": "code",
   "execution_count": 33,
   "metadata": {},
   "outputs": [
    {
     "name": "stdout",
     "output_type": "stream",
     "text": [
      " Accuracy of the model is 97.69\n",
      "Confusion Matrix: [[769  22]\n",
      " [ 15 794]]\n"
     ]
    }
   ],
   "source": [
    "random_model = KNeighborsClassifier(n_neighbors=3)\n",
    "random_model = random_model.fit(X_train, y_train)\n",
    "y_pred = random_model.predict(X_test)\n",
    "score = accuracy_score(y_test, y_pred)*100\n",
    "print(\" Accuracy of the model is %.2f\" %score)\n",
    "confusion = confusion_matrix(y_test, y_pred)\n",
    "print(\"Confusion Matrix:\",confusion)"
   ]
  },
  {
   "cell_type": "markdown",
   "metadata": {},
   "source": [
    "### Confusion Matrix"
   ]
  },
  {
   "cell_type": "code",
   "execution_count": null,
   "metadata": {},
   "outputs": [
    {
     "data": {
      "image/png": "[encoded data removed]",
      "text/plain": [
       "<Figure size 700x500 with 2 Axes>"
      ]
     },
     "metadata": {},
     "output_type": "display_data"
    }
   ],
   "source": [
    "plt.figure(figsize=(7, 5))\n",
    "sns.heatmap(confusion, annot=True, fmt='g', cmap='Blues', xticklabels=['Class 0', 'Class 1'], yticklabels=['Class 0', 'Class 1'])\n",
    "plt.title('Confusion Matrix Heatmap')\n",
    "plt.xlabel('Predicted Labels')\n",
    "plt.ylabel('True Labels')\n",
    "# plt.savefig('Confusion matrix')\n",
    "plt.show()"
   ]
  },
  {
   "cell_type": "markdown",
   "metadata": {},
   "source": [
    "### Observations:\n",
    "\n",
    "- The model has a high accuracy in predicting both Class 0 and Class 1.\n",
    "\n",
    "- The model is better at predicting Class 1 (higher True Positive rate) than Class 0 (lower True Negative rate).\n",
    "\n",
    "- The model has a relatively low False Positive rate, indicating it is not likely to misclassify a Class 0 instance as Class 1.\n",
    "\n",
    "- The model has a moderate False Negative rate, suggesting it is not consistently accurate in identifying Class 1 instances."
   ]
  },
  {
   "cell_type": "markdown",
   "metadata": {},
   "source": [
    "### AUC - ROC Curve"
   ]
  },
  {
   "cell_type": "code",
   "execution_count": 35,
   "metadata": {},
   "outputs": [
    {
     "name": "stdout",
     "output_type": "stream",
     "text": [
      "AUC Score: 0.9937\n"
     ]
    }
   ],
   "source": [
    "\n",
    "y_prob = random_model.predict_proba(X_test)[:, 1]\n",
    "\n",
    "# Compute ROC curve\n",
    "fpr, tpr, thresholds = roc_curve(y_test, y_prob)\n",
    "\n",
    "# Compute AUC score\n",
    "auc_score = roc_auc_score(y_test, y_prob)\n",
    "print(f\"AUC Score: {auc_score:.4f}\")"
   ]
  },
  {
   "cell_type": "code",
   "execution_count": null,
   "metadata": {},
   "outputs": [
    {
     "data": {
      "image/png": "[encoded data removed]",
      "text/plain": [
       "<Figure size 700x500 with 1 Axes>"
      ]
     },
     "metadata": {},
     "output_type": "display_data"
    }
   ],
   "source": [
    "plt.figure(figsize=(7, 5))\n",
    "plt.plot(fpr, tpr, color='blue', label=f'ROC curve (AUC = {auc_score:.4f})')\n",
    "plt.plot([0, 1], [0, 1], color='gray', linestyle='--')\n",
    "plt.title('ROC Curve')\n",
    "plt.xlabel('False Positive Rate')\n",
    "plt.ylabel('True Positive Rate')\n",
    "plt.legend(loc='lower right')\n",
    "# plt.savefig('auc or roc curve')\n",
    "plt.show()"
   ]
  },
  {
   "cell_type": "markdown",
   "metadata": {},
   "source": [
    "### Observesion\n",
    "\n",
    "- **High AUC Score:** The AUC (Area Under the Curve) of 0.9915 suggests excellent model performance in distinguishing between positive and negative cases.\n",
    "\n",
    "- **Steep Curve:** The ROC curve is very steep, indicating a strong ability to correctly classify positive instances while minimizing false positives.\n",
    "\n",
    "- **Close to Ideal:** The curve is close to the top left corner, which represents an ideal classifier with high true positive rates and low false positive rates."
   ]
  },
  {
   "cell_type": "markdown",
   "metadata": {},
   "source": []
  }
 ],
 "metadata": {
  "kernelspec": {
   "display_name": "jay",
   "language": "python",
   "name": "python3"
  },
  "language_info": {
   "codemirror_mode": {
    "name": "ipython",
    "version": 3
   },
   "file_extension": ".py",
   "mimetype": "text/x-python",
   "name": "python",
   "nbconvert_exporter": "python",
   "pygments_lexer": "ipython3",
   "version": "3.10.15"
  }
 },
 "nbformat": 4,
 "nbformat_minor": 2
}
